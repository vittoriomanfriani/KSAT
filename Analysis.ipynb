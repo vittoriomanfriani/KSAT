{
 "cells": [
  {
   "metadata": {},
   "cell_type": "markdown",
   "source": "# Imports",
   "id": "628f9e03d963bb4b"
  },
  {
   "metadata": {
    "ExecuteTime": {
     "end_time": "2025-01-08T23:08:27.521678Z",
     "start_time": "2025-01-08T23:08:27.507326Z"
    }
   },
   "cell_type": "code",
   "source": [
    "from tqdm import tqdm\n",
    "import KSAT_properties\n",
    "import importlib\n",
    "importlib.reload(KSAT_properties)\n",
    "import matplotlib.pyplot as plt"
   ],
   "id": "7f9c2ea8c3b97c91",
   "outputs": [],
   "execution_count": 69
  },
  {
   "metadata": {},
   "cell_type": "markdown",
   "source": "# Percentage Solved",
   "id": "47720f81f031b740"
  },
  {
   "cell_type": "code",
   "execution_count": null,
   "id": "initial_id",
   "metadata": {
    "collapsed": true
   },
   "outputs": [],
   "source": [
    "M = [200, 400, 500, 600, 700, 800, 900, 1000]\n",
    "percentage_solved = {}\n",
    "for m in tqdm(M):\n",
    "    percentage_solved[m] = KSAT_properties.empirical_probability(m)"
   ]
  },
  {
   "metadata": {},
   "cell_type": "markdown",
   "source": "# Algorithmic Threshold Analysis",
   "id": "4a5b8cd3f2c4a0b3"
  },
  {
   "metadata": {
    "ExecuteTime": {
     "end_time": "2025-01-08T22:27:40.359061Z",
     "start_time": "2025-01-08T22:24:28.682793Z"
    }
   },
   "cell_type": "code",
   "source": [
    "N = [200,300,400,500,600]\n",
    "M_alg = {}\n",
    "for n in tqdm(N):\n",
    "    mid_M = KSAT_properties.find_threshold(n, target_prob=0.5, min_M=100, max_M=500)\n",
    "    M_alg[n] = mid_M"
   ],
   "id": "d174f6d5e5e1fc70",
   "outputs": [
    {
     "name": "stderr",
     "output_type": "stream",
     "text": [
      "  0%|          | 0/5 [00:00<?, ?it/s]"
     ]
    },
    {
     "name": "stdout",
     "output_type": "stream",
     "text": [
      "0.9666666666666667 300\n",
      "0.43333333333333335 400\n",
      "0.9 350\n"
     ]
    },
    {
     "name": "stderr",
     "output_type": "stream",
     "text": [
      " 20%|██        | 1/5 [00:16<01:04, 16.07s/it]"
     ]
    },
    {
     "name": "stdout",
     "output_type": "stream",
     "text": [
      "0.5 375\n",
      "0.9333333333333333 300\n",
      "0.6333333333333333 400\n",
      "0.36666666666666664 450\n",
      "0.4 425\n",
      "0.4666666666666667 412\n",
      "0.6666666666666666 406\n",
      "0.5666666666666667 409\n"
     ]
    },
    {
     "name": "stderr",
     "output_type": "stream",
     "text": [
      " 40%|████      | 2/5 [01:02<01:42, 34.11s/it]"
     ]
    },
    {
     "name": "stdout",
     "output_type": "stream",
     "text": [
      "0.5 410\n",
      "0.7 300\n",
      "0.5666666666666667 400\n",
      "0.36666666666666664 450\n",
      "0.3333333333333333 425\n",
      "0.4666666666666667 412\n",
      "0.7 406\n",
      "0.5333333333333333 409\n"
     ]
    },
    {
     "name": "stderr",
     "output_type": "stream",
     "text": [
      " 60%|██████    | 3/5 [02:01<01:30, 45.31s/it]"
     ]
    },
    {
     "name": "stdout",
     "output_type": "stream",
     "text": [
      "0.43333333333333335 410\n",
      "0.5666666666666667 300\n",
      "0.4 400\n",
      "0.3 350\n",
      "0.5333333333333333 325\n",
      "0.5666666666666667 337\n",
      "0.4666666666666667 343\n"
     ]
    },
    {
     "name": "stderr",
     "output_type": "stream",
     "text": [
      " 80%|████████  | 4/5 [03:01<00:51, 51.26s/it]"
     ]
    },
    {
     "name": "stdout",
     "output_type": "stream",
     "text": [
      "0.5 340\n"
     ]
    },
    {
     "name": "stderr",
     "output_type": "stream",
     "text": [
      "100%|██████████| 5/5 [03:11<00:00, 38.33s/it]"
     ]
    },
    {
     "name": "stdout",
     "output_type": "stream",
     "text": [
      "0.5 300\n"
     ]
    },
    {
     "name": "stderr",
     "output_type": "stream",
     "text": [
      "\n"
     ]
    }
   ],
   "execution_count": 38
  },
  {
   "metadata": {
    "ExecuteTime": {
     "end_time": "2025-01-08T22:27:43.539524Z",
     "start_time": "2025-01-08T22:27:43.536003Z"
    }
   },
   "cell_type": "code",
   "source": "M_alg",
   "id": "cb4abdddaf713d6b",
   "outputs": [
    {
     "data": {
      "text/plain": [
       "{200: 375, 300: 410, 400: 410, 500: 340, 600: 300}"
      ]
     },
     "execution_count": 39,
     "metadata": {},
     "output_type": "execute_result"
    }
   ],
   "execution_count": 39
  },
  {
   "metadata": {
    "ExecuteTime": {
     "end_time": "2025-01-08T22:27:46.082751Z",
     "start_time": "2025-01-08T22:27:46.010691Z"
    }
   },
   "cell_type": "code",
   "source": "plt.plot(M_alg.keys(), M_alg.values())",
   "id": "e8c3924d770edc9",
   "outputs": [
    {
     "data": {
      "text/plain": [
       "[<matplotlib.lines.Line2D at 0x122dcb490>]"
      ]
     },
     "execution_count": 40,
     "metadata": {},
     "output_type": "execute_result"
    },
    {
     "data": {
      "text/plain": [
       "<Figure size 640x480 with 1 Axes>"
      ],
      "image/png": "[encoded data removed]"
     },
     "metadata": {},
     "output_type": "display_data"
    }
   ],
   "execution_count": 40
  },
  {
   "metadata": {
    "ExecuteTime": {
     "end_time": "2025-01-08T22:24:15.085385Z",
     "start_time": "2025-01-08T22:24:09.359221Z"
    }
   },
   "cell_type": "code",
   "source": [
    "KSAT_properties.empirical_probability(N = 300, M = 300)\n",
    "#find_threshold(300, target_prob=0.5, min_M=100, max_M=1000)"
   ],
   "id": "acc0c0b4c3ddb43a",
   "outputs": [
    {
     "data": {
      "text/plain": [
       "0.7"
      ]
     },
     "execution_count": 37,
     "metadata": {},
     "output_type": "execute_result"
    }
   ],
   "execution_count": 37
  },
  {
   "metadata": {},
   "cell_type": "code",
   "outputs": [],
   "execution_count": null,
   "source": "",
   "id": "44b5a0edbaa3d5be"
  }
 ],
 "metadata": {
  "kernelspec": {
   "display_name": "Python 3",
   "language": "python",
   "name": "python3"
  },
  "language_info": {
   "codemirror_mode": {
    "name": "ipython",
    "version": 2
   },
   "file_extension": ".py",
   "mimetype": "text/x-python",
   "name": "python",
   "nbconvert_exporter": "python",
   "pygments_lexer": "ipython2",
   "version": "2.7.6"
  }
 },
 "nbformat": 4,
 "nbformat_minor": 5
}
