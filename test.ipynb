{
 "cells": [
  {
   "cell_type": "code",
   "id": "initial_id",
   "metadata": {
    "collapsed": true,
    "ExecuteTime": {
     "end_time": "2025-01-08T15:52:03.373317Z",
     "start_time": "2025-01-08T15:52:03.368536Z"
    }
   },
   "source": [
    "import numpy as np\n",
    "\n",
    "from SimAnn import accept"
   ],
   "outputs": [],
   "execution_count": 213
  },
  {
   "metadata": {
    "ExecuteTime": {
     "end_time": "2025-01-08T15:52:03.386491Z",
     "start_time": "2025-01-08T15:52:03.384156Z"
    }
   },
   "cell_type": "code",
   "source": [
    "M = 2\n",
    "K = 2\n",
    "s = np.random.choice([-1,1], size=(M,K))"
   ],
   "id": "1dd84b3fb6a6e54b",
   "outputs": [],
   "execution_count": 214
  },
  {
   "metadata": {
    "ExecuteTime": {
     "end_time": "2025-01-08T15:52:03.395835Z",
     "start_time": "2025-01-08T15:52:03.394200Z"
    }
   },
   "cell_type": "code",
   "source": "N = 4",
   "id": "cd91357974a37b0d",
   "outputs": [],
   "execution_count": 215
  },
  {
   "metadata": {
    "ExecuteTime": {
     "end_time": "2025-01-08T15:52:03.403666Z",
     "start_time": "2025-01-08T15:52:03.401227Z"
    }
   },
   "cell_type": "code",
   "source": [
    "# index is the matrix reporting the index of the K variables of the m-th clause\n",
    "index = np.zeros((M,K), dtype = int)\n",
    "for m in range(M):\n",
    "    index[m] = np.random.choice(N, size=(K), replace=False)\n",
    "\n",
    "    # Dictionary for keeping track of literals in clauses\n",
    "    clauses = []\n",
    "    for n in range(N):\n",
    "        clauses.append([i for i, row in enumerate(index) if n in row])"
   ],
   "id": "e314bb94a6c77ae",
   "outputs": [],
   "execution_count": 216
  },
  {
   "metadata": {
    "ExecuteTime": {
     "end_time": "2025-01-08T15:52:03.411496Z",
     "start_time": "2025-01-08T15:52:03.408489Z"
    }
   },
   "cell_type": "code",
   "source": "s",
   "id": "18fc40f766b4e403",
   "outputs": [
    {
     "data": {
      "text/plain": [
       "array([[ 1, -1],\n",
       "       [ 1, -1]])"
      ]
     },
     "execution_count": 217,
     "metadata": {},
     "output_type": "execute_result"
    }
   ],
   "execution_count": 217
  },
  {
   "metadata": {
    "ExecuteTime": {
     "end_time": "2025-01-08T15:52:03.489443Z",
     "start_time": "2025-01-08T15:52:03.487289Z"
    }
   },
   "cell_type": "code",
   "source": "index",
   "id": "2140ecd42c53c8e6",
   "outputs": [
    {
     "data": {
      "text/plain": [
       "array([[0, 3],\n",
       "       [3, 1]])"
      ]
     },
     "execution_count": 218,
     "metadata": {},
     "output_type": "execute_result"
    }
   ],
   "execution_count": 218
  },
  {
   "metadata": {
    "ExecuteTime": {
     "end_time": "2025-01-08T15:52:03.555763Z",
     "start_time": "2025-01-08T15:52:03.551958Z"
    }
   },
   "cell_type": "code",
   "source": "clauses",
   "id": "a9fc4542e10737da",
   "outputs": [
    {
     "data": {
      "text/plain": [
       "[[0], [1], [], [0, 1]]"
      ]
     },
     "execution_count": 219,
     "metadata": {},
     "output_type": "execute_result"
    }
   ],
   "execution_count": 219
  },
  {
   "metadata": {
    "ExecuteTime": {
     "end_time": "2025-01-08T15:52:03.602915Z",
     "start_time": "2025-01-08T15:52:03.599287Z"
    }
   },
   "cell_type": "code",
   "source": "s",
   "id": "46f143b6a2f9fad5",
   "outputs": [
    {
     "data": {
      "text/plain": [
       "array([[ 1, -1],\n",
       "       [ 1, -1]])"
      ]
     },
     "execution_count": 220,
     "metadata": {},
     "output_type": "execute_result"
    }
   ],
   "execution_count": 220
  },
  {
   "metadata": {
    "ExecuteTime": {
     "end_time": "2025-01-08T15:52:03.646183Z",
     "start_time": "2025-01-08T15:52:03.643884Z"
    }
   },
   "cell_type": "code",
   "source": [
    "x = np.ones(N, dtype=int)\n",
    "\n",
    "def init_config(x, N):\n",
    "    N = N\n",
    "    x[:] = np.random.choice([-1,1], size=(N))\n",
    "\n",
    "init_config(x, N)"
   ],
   "id": "b10a37c87ca43b2",
   "outputs": [],
   "execution_count": 221
  },
  {
   "metadata": {
    "ExecuteTime": {
     "end_time": "2025-01-08T15:52:03.690384Z",
     "start_time": "2025-01-08T15:52:03.686658Z"
    }
   },
   "cell_type": "code",
   "source": "x",
   "id": "5a85802b6a00c352",
   "outputs": [
    {
     "data": {
      "text/plain": [
       "array([ 1,  1, -1,  1])"
      ]
     },
     "execution_count": 222,
     "metadata": {},
     "output_type": "execute_result"
    }
   ],
   "execution_count": 222
  },
  {
   "metadata": {
    "ExecuteTime": {
     "end_time": "2025-01-08T15:57:57.142827Z",
     "start_time": "2025-01-08T15:57:57.138731Z"
    }
   },
   "cell_type": "code",
   "source": [
    "def cost(x,s, influenced_clauses = None):\n",
    "    if influenced_clauses is None:\n",
    "        x = x[index]\n",
    "        s = s\n",
    "    else:\n",
    "        x = x[index[influenced_clauses]]\n",
    "        s = s[influenced_clauses]\n",
    "\n",
    "    clause_cost = np.prod((1 - x * s) / 2, axis=1)\n",
    "\n",
    "    return clause_cost.sum()"
   ],
   "id": "27a1c0d6355fc352",
   "outputs": [],
   "execution_count": 244
  },
  {
   "metadata": {
    "ExecuteTime": {
     "end_time": "2025-01-08T15:52:03.734386Z",
     "start_time": "2025-01-08T15:52:03.731478Z"
    }
   },
   "cell_type": "code",
   "source": [
    "def propose_move(N):\n",
    "    N = N\n",
    "    move = np.random.choice(N)\n",
    "    return move"
   ],
   "id": "ef96108e215e5de5",
   "outputs": [],
   "execution_count": 225
  },
  {
   "metadata": {
    "ExecuteTime": {
     "end_time": "2025-01-08T15:52:03.748586Z",
     "start_time": "2025-01-08T15:52:03.745516Z"
    }
   },
   "cell_type": "code",
   "source": "move = propose_move(N)",
   "id": "97328856138042f8",
   "outputs": [],
   "execution_count": 226
  },
  {
   "metadata": {
    "ExecuteTime": {
     "end_time": "2025-01-08T15:52:03.799647Z",
     "start_time": "2025-01-08T15:52:03.797136Z"
    }
   },
   "cell_type": "code",
   "source": [
    "def accept_move(x, move):\n",
    "    x[move] *= -1"
   ],
   "id": "aa6abe4318342336",
   "outputs": [],
   "execution_count": 229
  },
  {
   "metadata": {
    "ExecuteTime": {
     "end_time": "2025-01-08T15:52:57.030313Z",
     "start_time": "2025-01-08T15:52:57.024168Z"
    }
   },
   "cell_type": "code",
   "source": [
    "def compute_delta_cost(x, move, clauses, s):\n",
    "\n",
    "    initial_x = x.copy()\n",
    "    influenced_clauses = clauses[move]\n",
    "    initial_cost = cost(initial_x, s, influenced_clauses)\n",
    "\n",
    "    new_x = accept_move(initial_x, move)\n",
    "    new_cost = cost(new_x, s, influenced_clauses,)\n",
    "\n",
    "    print(f'new x = {new_x}\\n'\n",
    "          f'influenced clauses = {influenced_clauses}\\n'\n",
    "          f'initial cost = {initial_cost}\\n'\n",
    "          f'new cost = {new_cost}')\n",
    "\n",
    "    return new_cost - initial_cost"
   ],
   "id": "1761d9dc237d89d2",
   "outputs": [],
   "execution_count": 235
  },
  {
   "metadata": {
    "ExecuteTime": {
     "end_time": "2025-01-08T15:52:58.545965Z",
     "start_time": "2025-01-08T15:52:58.539889Z"
    }
   },
   "cell_type": "code",
   "source": "compute_delta_cost(x, move, clauses, s)",
   "id": "e5bfd6bbc673f290",
   "outputs": [
    {
     "name": "stdout",
     "output_type": "stream",
     "text": [
      "new x = [-1  1 -1  1]\n",
      "influenced clauses = [0]\n",
      "initial cost = 0.0\n",
      "new cost = 1.0\n"
     ]
    },
    {
     "data": {
      "text/plain": [
       "1.0"
      ]
     },
     "execution_count": 236,
     "metadata": {},
     "output_type": "execute_result"
    }
   ],
   "execution_count": 236
  },
  {
   "metadata": {},
   "cell_type": "code",
   "outputs": [],
   "execution_count": null,
   "source": "",
   "id": "294cc362e63b8d28"
  }
 ],
 "metadata": {
  "kernelspec": {
   "display_name": "Python 3",
   "language": "python",
   "name": "python3"
  },
  "language_info": {
   "codemirror_mode": {
    "name": "ipython",
    "version": 2
   },
   "file_extension": ".py",
   "mimetype": "text/x-python",
   "name": "python",
   "nbconvert_exporter": "python",
   "pygments_lexer": "ipython2",
   "version": "2.7.6"
  }
 },
 "nbformat": 4,
 "nbformat_minor": 5
}
